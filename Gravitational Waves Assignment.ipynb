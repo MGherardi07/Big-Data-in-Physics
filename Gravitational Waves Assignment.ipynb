{
  "nbformat": 4,
  "nbformat_minor": 0,
  "metadata": {
    "colab": {
      "name": "Untitled1.ipynb",
      "provenance": [],
      "authorship_tag": "ABX9TyPVFljnMAVgLaiLf2cVzi6J",
      "include_colab_link": true
    },
    "kernelspec": {
      "name": "python3",
      "display_name": "Python 3"
    }
  },
  "cells": [
    {
      "cell_type": "markdown",
      "metadata": {
        "id": "view-in-github",
        "colab_type": "text"
      },
      "source": [
        "<a href=\"https://colab.research.google.com/github/MGherardi07/Big-Data-in-Physics/blob/master/Gravitational%20Waves%20Assignment.ipynb\" target=\"_parent\"><img src=\"https://colab.research.google.com/assets/colab-badge.svg\" alt=\"Open In Colab\"/></a>"
      ]
    },
    {
      "cell_type": "markdown",
      "metadata": {
        "id": "3WJHuHbYyeHY",
        "colab_type": "text"
      },
      "source": [
        "**Exercise 1 & 2:** Writing a generalized Fisher Matrix code\n"
      ]
    },
    {
      "cell_type": "code",
      "metadata": {
        "id": "ywnVxL1kxRX3",
        "colab_type": "code",
        "colab": {}
      },
      "source": [
        "#libraries in use:\n",
        "import numpy as np\n",
        "import cmath as cm\n",
        "import sympy as sp"
      ],
      "execution_count": 0,
      "outputs": []
    },
    {
      "cell_type": "code",
      "metadata": {
        "id": "uBH19hfOxVGn",
        "colab_type": "code",
        "colab": {}
      },
      "source": [
        "#Declare any constants\n",
        "G = 6.67*10**(-11)\n",
        "c = 2.998*10**(8)\n",
        "## PSD ##\n",
        "f0 = 150\n",
        "fs = 40 \n",
        "## Wavefunction h(f) ##\n",
        "solar_mass = 2*(10**30)\n",
        "m1 = 2*solar_mass\n",
        "m2 = 1*solar_mass\n",
        "M = m1 + m2\n",
        "SNR = 10\n",
        "eta = (m1*m2)/(M**2)\n",
        "tc = 1\n",
        "phic = 1\n",
        "\n",
        "#If you want higher PN orders, then add more corrections. But dont forget to add it into the pn_array below\n",
        "a0 = 1\n",
        "a1 = 0\n",
        "a2 = (20/9)*(743/336 + (11/4)*eta)\n",
        "\n",
        "#The variables with which h(f) will be differentiated wrt\n",
        "variables = [tc,phic,eta,M]\n",
        "#change to match with variables\n",
        "observables= [\"tc\",\"phic\",\"eta\",\"M\"]"
      ],
      "execution_count": 0,
      "outputs": []
    },
    {
      "cell_type": "code",
      "metadata": {
        "id": "PqM3YAesxVWo",
        "colab_type": "code",
        "colab": {}
      },
      "source": [
        "#If any more corrections are added above, then add them to this array\n",
        "pn_array = [a0,a1,a2]"
      ],
      "execution_count": 0,
      "outputs": []
    },
    {
      "cell_type": "code",
      "metadata": {
        "id": "uGN3m7Yz7c1u",
        "colab_type": "code",
        "colab": {}
      },
      "source": [
        "#Create an integration and differentiation function\n",
        "def integral_of(function, low, high, dx):\n",
        "  area = 0\n",
        "  x = low\n",
        "  steps = int((high-low)/dx)\n",
        "  for i in range(steps):\n",
        "    area += function(x)*dx\n",
        "    x+=dx\n",
        "  return area"
      ],
      "execution_count": 0,
      "outputs": []
    },
    {
      "cell_type": "code",
      "metadata": {
        "id": "CZheNHtgxVjn",
        "colab_type": "code",
        "colab": {}
      },
      "source": [
        "#This is the function for the phase, xi(f)\n",
        "def xi(f):\n",
        "  summed_function = 0\n",
        "  v = (((float(sp.pi))*M*f)**(1/3))\n",
        "  for j in range(0, len(pn_array)):\n",
        "    summed_function += pn_array[j]*(v**(j))\n",
        "  return 2*float(sp.pi)*f*tc - phic - float(sp.pi)/4 + (3/(128*eta*(v**5)))*summed_function"
      ],
      "execution_count": 0,
      "outputs": []
    },
    {
      "cell_type": "code",
      "metadata": {
        "id": "fBComNKGxV0b",
        "colab_type": "code",
        "colab": {}
      },
      "source": [
        "#Here you can initialise any PSD function\n",
        "#This is for the Initial LIGO / the fs and f0 are initialised above\n",
        "def s_f(f):\n",
        "  S0 = 9*10**(-46)\n",
        "  x = f/f0\n",
        "  if f >= fs:\n",
        "    return S0*((4.49*x)**(-5) + (0.16*x)**(-4.52) + 0.52 + (0.32*x)**2 )\n",
        "  if f < fs:\n",
        "    return 100000000000 #infinity approximation"
      ],
      "execution_count": 0,
      "outputs": []
    },
    {
      "cell_type": "code",
      "metadata": {
        "id": "ERf6z5m2xWF4",
        "colab_type": "code",
        "colab": {}
      },
      "source": [
        "#The waveform and its conjugate\n",
        "def h_real(f):\n",
        "  A = sp.sqrt(  SNR/ (4* integral_of(s_f,fs,f0,0.01) ) )\n",
        "  xi_f = xi(f)\n",
        "  return A*f**(-7/6)*sp.exp(1j*xi_f)\n",
        "\n",
        "def h_compl(f):\n",
        "  A = sp.sqrt(  SNR/ (4* integral_of(s_f,fs,f0,0.01) ) )\n",
        "  xi_f = xi(f)\n",
        "  return A*f**(-7/6)*sp.exp(-1j*xi_f)"
      ],
      "execution_count": 0,
      "outputs": []
    },
    {
      "cell_type": "code",
      "metadata": {
        "id": "gRa6y9FhxWY_",
        "colab_type": "code",
        "colab": {}
      },
      "source": [
        "#This returns the derivative of the real and complex waveforms respectively \n",
        "def d_h_real(i,inc):\n",
        "  return (h_real(variables[i]+inc) - h_real(variables[i])) / (inc)\n",
        "def d_h_compl(j,inc):\n",
        "  return (h_compl(variables[j]+inc) - h_compl(variables[j])) / (inc)"
      ],
      "execution_count": 0,
      "outputs": []
    },
    {
      "cell_type": "code",
      "metadata": {
        "id": "yiVDiZDlxuFe",
        "colab_type": "code",
        "colab": {}
      },
      "source": [
        "def create_fm(matrix, increment):\n",
        "  #This part here creates the range of frequencies to integrate from\n",
        "  frequencies = np.zeros(shape=(len(variables)*len(variables)))\n",
        "  start_freq = fs\n",
        "  f_steps = int(  (f0-fs)  /  (len(variables)*len(variables))    )\n",
        "  for s in range(len(variables)*len(variables)):\n",
        "    frequencies[s] = start_freq\n",
        "    start_freq += f_steps\n",
        "  \n",
        "  f_index = 0\n",
        "  intg = 0\n",
        "  #print(frequencies)\n",
        "  for i in range(len(variables)):\n",
        "    for j in range(len(variables)):\n",
        "      if i==j:\n",
        "        numerator = 4 * float(d_h_real(i, increment) * d_h_compl(j, increment))\n",
        "        intg += (numerator/s_f(frequencies[f_index]))*increment\n",
        "        matrix[i][j] = intg\n",
        "      f_index += 1\n",
        "  \n",
        "  return matrix"
      ],
      "execution_count": 0,
      "outputs": []
    },
    {
      "cell_type": "code",
      "metadata": {
        "id": "GbCRsW01xuZn",
        "colab_type": "code",
        "colab": {
          "base_uri": "https://localhost:8080/",
          "height": 85
        },
        "outputId": "b1decf1f-c0a5-4bac-d946-4e8d4b19554c"
      },
      "source": [
        "#Create a matrix for the values to go into\n",
        "fm = np.zeros( shape=(len(variables),len(variables)) )\n",
        "\n",
        "create_fm(fm, 0.01)\n",
        "print(fm)"
      ],
      "execution_count": 110,
      "outputs": [
        {
          "output_type": "stream",
          "text": [
            "[[1.82694170e+77 0.00000000e+00 0.00000000e+00 0.00000000e+00]\n",
            " [0.00000000e+00 2.47490703e+78 0.00000000e+00 0.00000000e+00]\n",
            " [0.00000000e+00 0.00000000e+00 5.98154982e+80 0.00000000e+00]\n",
            " [0.00000000e+00 0.00000000e+00 0.00000000e+00 5.98154982e+80]]\n"
          ],
          "name": "stdout"
        }
      ]
    },
    {
      "cell_type": "code",
      "metadata": {
        "id": "DNRt6wwLxun9",
        "colab_type": "code",
        "colab": {}
      },
      "source": [
        "def compute_stds(matrix):\n",
        "  inverse = np.linalg.inv(matrix)\n",
        "  diag_elements = []\n",
        "  for i in range(len(variables)):\n",
        "    for j in range(len(variables)):\n",
        "      if (i==j):\n",
        "        diag_elements.append(inverse[i][j])\n",
        "  for k in range(len(diag_elements)):\n",
        "    diag_elements[k] = np.sqrt(diag_elements[k])\n",
        "\n",
        "  for l in range(len(diag_elements)):\n",
        "    print(\"The standard deviation for {} is {}\".format(observables[l],diag_elements[l]))"
      ],
      "execution_count": 0,
      "outputs": []
    },
    {
      "cell_type": "code",
      "metadata": {
        "id": "5dOX2687xux3",
        "colab_type": "code",
        "colab": {
          "base_uri": "https://localhost:8080/",
          "height": 85
        },
        "outputId": "056d8e21-70d0-42ab-f097-45869c126684"
      },
      "source": [
        "compute_stds(fm)"
      ],
      "execution_count": 112,
      "outputs": [
        {
          "output_type": "stream",
          "text": [
            "The standard deviation for tc is 2.3395786802596237e-39\n",
            "The standard deviation for phic is 6.3565366507702305e-40\n",
            "The standard deviation for eta is 4.0887742972236405e-41\n",
            "The standard deviation for M is 4.0887742972236405e-41\n"
          ],
          "name": "stdout"
        }
      ]
    },
    {
      "cell_type": "markdown",
      "metadata": {
        "id": "S1vqA3DYycpX",
        "colab_type": "text"
      },
      "source": [
        "**Exercise 3:** Testing of generalized code\n",
        "\n",
        "Note: I was unable to place the file that I wanted this part of the exercise to read into the directory. Since there was not much trial and error for whether it works after creating a new matrix, I can't be sure if the code is good. When grading if you could just inform me how to complete this than I would be better off as I know it should be straight forward, however I simply ran out of time."
      ]
    },
    {
      "cell_type": "code",
      "metadata": {
        "id": "LXUgeTe8xu6R",
        "colab_type": "code",
        "colab": {}
      },
      "source": [
        "import urllib.request as r"
      ],
      "execution_count": 0,
      "outputs": []
    },
    {
      "cell_type": "markdown",
      "metadata": {
        "id": "xfjERJam82U4",
        "colab_type": "text"
      },
      "source": [
        ""
      ]
    },
    {
      "cell_type": "code",
      "metadata": {
        "id": "p3NjC90jxvBf",
        "colab_type": "code",
        "colab": {}
      },
      "source": [
        "#Change these to access the files you want\n",
        "name = \"advancedLigo.txt\"\n",
        "#The arrays onto which Frequencies and Sensitivities must be loaded to to plot the graphs\n",
        "x = []\n",
        "y = []\n",
        "\n",
        "#Define our new variables/Constants\n",
        "M_chirp = M*eta**(3/5)\n",
        "fs = 20\n",
        "f0 = 215\n",
        "\n",
        "variables = [tc,phic,eta,M_chirp]\n",
        "\n",
        "observables= [\"tc\",\"phic\",\"eta\",\"M_chirp\"]"
      ],
      "execution_count": 0,
      "outputs": []
    },
    {
      "cell_type": "code",
      "metadata": {
        "id": "dx5szlEkxvIi",
        "colab_type": "code",
        "colab": {}
      },
      "source": [
        "#Define our new PSD for the advanced LIGO\n",
        "def s_f_aLigo(f):\n",
        "  S0 = 10**(-49)\n",
        "  x = f/f0\n",
        "  if f >= fs:\n",
        "    return S0*(x**(-4.14) - 5*x**(-2) + (111*(1 - x**2 - (x**4) / 2))/(1 + (x**2) / 2))\n",
        "  if f < fs:\n",
        "    return 100000000000 #infinity"
      ],
      "execution_count": 0,
      "outputs": []
    },
    {
      "cell_type": "code",
      "metadata": {
        "id": "86ogP1kFxvPZ",
        "colab_type": "code",
        "colab": {}
      },
      "source": [
        "#The waveform and its conjugate\n",
        "def h_real(f):\n",
        "  A = sp.sqrt(  SNR/ (4* integral_of(s_f_aLigo,fs,f0,0.01) ) )\n",
        "  xi_f = xi(f)\n",
        "  return A*f**(-7/6)*sp.exp(1j*xi_f)\n",
        "\n",
        "def h_compl(f):\n",
        "  A = sp.sqrt(  SNR/ (4* integral_of(s_f_aLigo,fs,f0,0.01) ) )\n",
        "  xi_f = xi(f)\n",
        "  return A*f**(-7/6)*sp.exp(-1j*xi_f)"
      ],
      "execution_count": 0,
      "outputs": []
    },
    {
      "cell_type": "code",
      "metadata": {
        "id": "cew7fw8oxvXA",
        "colab_type": "code",
        "colab": {}
      },
      "source": [
        "#This function opens the file you want and returns two arrays of values: the frequencies and their respective sensitvities \n",
        "def loaddata(name, x, y):\n",
        "  try:\n",
        "    f = open(name,\"r\")\n",
        "    firstline = f.readline()\n",
        "    columns = len(firstline.split())\n",
        "    #to re-read\n",
        "    f.seek(0)\n",
        "\n",
        "    lines = f.readlines()\n",
        "    for l in lines:\n",
        "      x.append(l.split()[0])\n",
        "      y.append(l.split()[columns - 1])\n",
        "    \n",
        "    f.close()\n",
        "    \n",
        "  except:\n",
        "    print(\"Please place the file you want to read in your directory!\")"
      ],
      "execution_count": 0,
      "outputs": []
    },
    {
      "cell_type": "code",
      "metadata": {
        "id": "BdScB_cIzKzE",
        "colab_type": "code",
        "colab": {}
      },
      "source": [
        "#We have to modify our previous function to create a Fisher Matrix\n",
        "def create_fm_new(matrix, increment, name = False):\n",
        "  \n",
        "  frequencies = []\n",
        "  f_index = 0\n",
        "  intg = 0\n",
        "  \n",
        "  if(name==False):\n",
        "    #This part here creates the range of frequencies to integrate from\n",
        "    for n in range(len(variables)*len(variables)):\n",
        "      frequencies.append(0)\n",
        "    start_freq = fs\n",
        "    f_steps = int(  (f0-fs)  /  (len(variables)*len(variables))    )\n",
        "    for s in range(len(variables)*len(variables)):\n",
        "      frequencies[s] = start_freq\n",
        "      start_freq += f_steps\n",
        "    \n",
        "    for i in range(len(variables)):\n",
        "      for j in range(len(variables)):\n",
        "        if i==j:\n",
        "          numerator = 4 * float(d_h_real(i, increment) * d_h_compl(j, increment))\n",
        "          intg += numerator/np.real(s_f(frequencies[f_index]))*increment\n",
        "          matrix[i][j] = intg\n",
        "        f_index += 1\n",
        "\n",
        "  elif(name!=False):\n",
        "    freqs = []\n",
        "    sens = []\n",
        "    loaddata(name, freqs, sens)\n",
        "    s = 0\n",
        "    for a in range(len(variables)):\n",
        "      for b in range(len(variables)):\n",
        "        for f in range(len(sens)):\n",
        "          s += float(sens[f])\n",
        "        if a==b:  \n",
        "          numerator = 4 * float(d_h_real(a, increment) * d_h_compl(b, increment))\n",
        "          intg += numerator/np.real(s)*increment\n",
        "          matrix[a][b] = intg\n",
        "          s=0\n",
        "\n",
        "  return matrix"
      ],
      "execution_count": 0,
      "outputs": []
    },
    {
      "cell_type": "code",
      "metadata": {
        "id": "fgK0TkVozK_6",
        "colab_type": "code",
        "colab": {
          "base_uri": "https://localhost:8080/",
          "height": 334
        },
        "outputId": "05dd70ac-d036-4f76-84b2-5948f01dd1bf"
      },
      "source": [
        "#Create a new matrix \n",
        "\n",
        "new_fm = np.zeros(shape=(len(variables),len(variables)))\n",
        "\n",
        "create_fm_new(new_fm, 0.01,name = name)\n"
      ],
      "execution_count": 96,
      "outputs": [
        {
          "output_type": "stream",
          "text": [
            "advancedLigo.txt\n"
          ],
          "name": "stdout"
        },
        {
          "output_type": "error",
          "ename": "ZeroDivisionError",
          "evalue": "ignored",
          "traceback": [
            "\u001b[0;31m---------------------------------------------------------------------------\u001b[0m",
            "\u001b[0;31mZeroDivisionError\u001b[0m                         Traceback (most recent call last)",
            "\u001b[0;32m<ipython-input-96-d529fa5d3c2f>\u001b[0m in \u001b[0;36m<module>\u001b[0;34m()\u001b[0m\n\u001b[1;32m      2\u001b[0m \u001b[0mnew_fm\u001b[0m \u001b[0;34m=\u001b[0m \u001b[0mnp\u001b[0m\u001b[0;34m.\u001b[0m\u001b[0mzeros\u001b[0m\u001b[0;34m(\u001b[0m\u001b[0mshape\u001b[0m\u001b[0;34m=\u001b[0m\u001b[0;34m(\u001b[0m\u001b[0mlen\u001b[0m\u001b[0;34m(\u001b[0m\u001b[0mvariables\u001b[0m\u001b[0;34m)\u001b[0m\u001b[0;34m,\u001b[0m\u001b[0mlen\u001b[0m\u001b[0;34m(\u001b[0m\u001b[0mvariables\u001b[0m\u001b[0;34m)\u001b[0m\u001b[0;34m)\u001b[0m\u001b[0;34m)\u001b[0m\u001b[0;34m\u001b[0m\u001b[0;34m\u001b[0m\u001b[0m\n\u001b[1;32m      3\u001b[0m \u001b[0;34m\u001b[0m\u001b[0m\n\u001b[0;32m----> 4\u001b[0;31m \u001b[0mcreate_fm_new\u001b[0m\u001b[0;34m(\u001b[0m\u001b[0mnew_fm\u001b[0m\u001b[0;34m,\u001b[0m \u001b[0;36m0.01\u001b[0m\u001b[0;34m,\u001b[0m\u001b[0mname\u001b[0m \u001b[0;34m=\u001b[0m \u001b[0mname\u001b[0m\u001b[0;34m)\u001b[0m\u001b[0;34m\u001b[0m\u001b[0;34m\u001b[0m\u001b[0m\n\u001b[0m",
            "\u001b[0;32m<ipython-input-95-cdc194c0c4da>\u001b[0m in \u001b[0;36mcreate_fm_new\u001b[0;34m(matrix, increment, name)\u001b[0m\n\u001b[1;32m     34\u001b[0m         \u001b[0;32mif\u001b[0m \u001b[0ma\u001b[0m\u001b[0;34m==\u001b[0m\u001b[0mb\u001b[0m\u001b[0;34m:\u001b[0m\u001b[0;34m\u001b[0m\u001b[0;34m\u001b[0m\u001b[0m\n\u001b[1;32m     35\u001b[0m           \u001b[0mnumerator\u001b[0m \u001b[0;34m=\u001b[0m \u001b[0;36m4\u001b[0m \u001b[0;34m*\u001b[0m \u001b[0mfloat\u001b[0m\u001b[0;34m(\u001b[0m\u001b[0md_h_real\u001b[0m\u001b[0;34m(\u001b[0m\u001b[0ma\u001b[0m\u001b[0;34m,\u001b[0m \u001b[0mincrement\u001b[0m\u001b[0;34m)\u001b[0m \u001b[0;34m*\u001b[0m \u001b[0md_h_compl\u001b[0m\u001b[0;34m(\u001b[0m\u001b[0mb\u001b[0m\u001b[0;34m,\u001b[0m \u001b[0mincrement\u001b[0m\u001b[0;34m)\u001b[0m\u001b[0;34m)\u001b[0m\u001b[0;34m\u001b[0m\u001b[0;34m\u001b[0m\u001b[0m\n\u001b[0;32m---> 36\u001b[0;31m           \u001b[0mintg\u001b[0m \u001b[0;34m+=\u001b[0m \u001b[0mnumerator\u001b[0m\u001b[0;34m/\u001b[0m\u001b[0mnp\u001b[0m\u001b[0;34m.\u001b[0m\u001b[0mreal\u001b[0m\u001b[0;34m(\u001b[0m\u001b[0ms\u001b[0m\u001b[0;34m)\u001b[0m\u001b[0;34m*\u001b[0m\u001b[0mincrement\u001b[0m\u001b[0;34m\u001b[0m\u001b[0;34m\u001b[0m\u001b[0m\n\u001b[0m\u001b[1;32m     37\u001b[0m           \u001b[0mmatrix\u001b[0m\u001b[0;34m[\u001b[0m\u001b[0ma\u001b[0m\u001b[0;34m]\u001b[0m\u001b[0;34m[\u001b[0m\u001b[0mb\u001b[0m\u001b[0;34m]\u001b[0m \u001b[0;34m=\u001b[0m \u001b[0mintg\u001b[0m\u001b[0;34m\u001b[0m\u001b[0;34m\u001b[0m\u001b[0m\n\u001b[1;32m     38\u001b[0m           \u001b[0ms\u001b[0m\u001b[0;34m=\u001b[0m\u001b[0;36m0\u001b[0m\u001b[0;34m\u001b[0m\u001b[0;34m\u001b[0m\u001b[0m\n",
            "\u001b[0;31mZeroDivisionError\u001b[0m: float division by zero"
          ]
        }
      ]
    },
    {
      "cell_type": "code",
      "metadata": {
        "id": "3IKn1fHdzLNJ",
        "colab_type": "code",
        "colab": {}
      },
      "source": [
        "compute_stds(new_fm)"
      ],
      "execution_count": 0,
      "outputs": []
    },
    {
      "cell_type": "code",
      "metadata": {
        "id": "TrxOZRa_zLm9",
        "colab_type": "code",
        "colab": {
          "base_uri": "https://localhost:8080/",
          "height": 316
        },
        "outputId": "3b9b6968-0cb9-4a5c-933b-bd6d4ec909ab"
      },
      "source": [
        "#Now to plot the freqs of the advanced Ligo data against the sensitivities \n",
        "import matplotlib.pyplot as plt\n",
        "\n",
        "x_axis = []\n",
        "y_axis = []\n",
        "\n",
        "loaddata(name, x_axis,y_axis )\n",
        "#print(x_axis)\n",
        "#print(y_axis)\n",
        "for i in range(len(x_axis)):\n",
        "  x_axis[i] = float(x_axis[i])\n",
        "  y_axis[i] = float(y_axis[i])\n",
        "\n",
        "\n",
        "plt.figure()\n",
        "plt.title(\"Sensitivty vs. Frequency for {} data\".format(name))\n",
        "plt.xlabel(\"Frequency\")\n",
        "plt.ylabel(\"Sensitivity\")\n",
        "plt.xscale(\"log\")\n",
        "plt.yscale(\"log\")\n",
        "axes = plt.gca()\n",
        "axes.set_xlim(5, 10**4)\n",
        "axes.set_ylim(10**(-25), 10**(-15))\n",
        "\n",
        "plt.plot(x_axis,y_axis,color = 'r', linestyle = '-')\n",
        "plt.show()"
      ],
      "execution_count": 113,
      "outputs": [
        {
          "output_type": "stream",
          "text": [
            "Please place the file you want to read in your directory!\n"
          ],
          "name": "stdout"
        },
        {
          "output_type": "display_data",
          "data": {
            "image/png": "[encoded data removed]",
            "text/plain": [
              "<Figure size 432x288 with 1 Axes>"
            ]
          },
          "metadata": {
            "tags": []
          }
        }
      ]
    },
    {
      "cell_type": "code",
      "metadata": {
        "id": "sPVH3LhpzbJI",
        "colab_type": "code",
        "colab": {
          "base_uri": "https://localhost:8080/",
          "height": 333
        },
        "outputId": "c4a8e368-c1dc-4bb4-f57e-4be96d57b617"
      },
      "source": [
        "#Now to compare the graphs for advanced Ligo, Virgo and Einstein\n",
        "\n",
        "new_x = []\n",
        "new_y = []\n",
        "e_x = []\n",
        "e_y = []\n",
        "\n",
        "loaddata(\"advancedVirgo.txt\", new_x,new_y )\n",
        "loaddata(\"einstein.txt\", e_x,e_y)\n",
        "#print(e_x)\n",
        "#print(e_y)\n",
        "\n",
        "for i in range(len(new_x)):\n",
        "  new_x[i] = float(new_x[i])\n",
        "  new_y[i] = float(new_y[i])\n",
        "\n",
        "for m in range(len(e_x)):\n",
        "  e_x[m] = float(e_x[m])\n",
        "  e_y[m] = float(e_y[m])\n",
        "\n",
        "plt.figure()\n",
        "plt.title(\"Sensitivty vs. Frequency for advanced Ligo vs. Virgo\")\n",
        "plt.xlabel(\"Frequency\")\n",
        "plt.ylabel(\"Sensitivity\")\n",
        "plt.xscale(\"log\")\n",
        "plt.yscale(\"log\")\n",
        "axes = plt.gca()\n",
        "axes.set_xlim(0.5, 10**4)\n",
        "axes.set_ylim(10**(-25), 10**(-15))\n",
        "\n",
        "plt.plot(new_x,new_y,color='g',linestyle='-',label='Virgo')\n",
        "plt.plot(x_axis,y_axis,color = 'r', linestyle = '-',label='Ligo')\n",
        "plt.plot(e_x,e_y,color='b',linestyle='-',label=\"Einstein Telescope\")\n",
        "plt.legend()\n",
        "plt.show()"
      ],
      "execution_count": 114,
      "outputs": [
        {
          "output_type": "stream",
          "text": [
            "Please place the file you want to read in your directory!\n",
            "Please place the file you want to read in your directory!\n"
          ],
          "name": "stdout"
        },
        {
          "output_type": "display_data",
          "data": {
            "image/png": "[encoded data removed]",
            "text/plain": [
              "<Figure size 432x288 with 1 Axes>"
            ]
          },
          "metadata": {
            "tags": []
          }
        }
      ]
    },
    {
      "cell_type": "code",
      "metadata": {
        "id": "RQofcA-hzbT0",
        "colab_type": "code",
        "colab": {}
      },
      "source": [
        ""
      ],
      "execution_count": 0,
      "outputs": []
    }
  ]
}